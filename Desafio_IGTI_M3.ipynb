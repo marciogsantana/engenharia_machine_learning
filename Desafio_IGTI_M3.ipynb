{
  "nbformat": 4,
  "nbformat_minor": 0,
  "metadata": {
    "kernelspec": {
      "display_name": "Python 3",
      "language": "python",
      "name": "python3"
    },
    "language_info": {
      "codemirror_mode": {
        "name": "ipython",
        "version": 3
      },
      "file_extension": ".py",
      "mimetype": "text/x-python",
      "name": "python",
      "nbconvert_exporter": "python",
      "pygments_lexer": "ipython3",
      "version": "3.6.4"
    },
    "colab": {
      "name": "Desafio_IGTI_M3.ipynb",
      "provenance": [],
      "collapsed_sections": [],
      "include_colab_link": true
    }
  },
  "cells": [
    {
      "cell_type": "markdown",
      "metadata": {
        "id": "view-in-github",
        "colab_type": "text"
      },
      "source": [
        "<a href=\"https://colab.research.google.com/github/marciogsantana/engenharia_machine_learning/blob/main/Desafio_IGTI_M3.ipynb\" target=\"_parent\"><img src=\"https://colab.research.google.com/assets/colab-badge.svg\" alt=\"Open In Colab\"/></a>"
      ]
    },
    {
      "cell_type": "markdown",
      "metadata": {
        "id": "wIl-k3lr8Qiv"
      },
      "source": [
        "# **Desafio IGTI Módulo 3**\n",
        "\n",
        "---\n",
        "\n",
        "Seleção de Modelos de Aprendizado de Máquina"
      ]
    },
    {
      "cell_type": "markdown",
      "metadata": {
        "id": "_5wwHwTQ8N8v"
      },
      "source": [
        "### *Importando* bibliotecas\n"
      ]
    },
    {
      "cell_type": "code",
      "metadata": {
        "id": "i_5G2bRaHU8i"
      },
      "source": [
        "import pandas as pd #biblioteca para manipulação de dados\n",
        "import numpy as np #biblioteca para utilizacao de vetores e matrizes\n",
        "import matplotlib.pyplot as plt #bibloteca para plotar graficos"
      ],
      "execution_count": null,
      "outputs": []
    },
    {
      "cell_type": "markdown",
      "metadata": {
        "id": "L9aBPfZwHjwK"
      },
      "source": [
        "### Carregamento dos dados"
      ]
    },
    {
      "cell_type": "code",
      "metadata": {
        "id": "FTLPdcSaHsIo"
      },
      "source": [
        "#lendo o csv que contem as base de dados em dfs\n",
        "df = pd.read_csv('/content/phpOJxGL9.csv')\n",
        "\n"
      ],
      "execution_count": null,
      "outputs": []
    },
    {
      "cell_type": "code",
      "metadata": {
        "id": "6U03DTBMOS7a",
        "colab": {
          "base_uri": "https://localhost:8080/",
          "height": 204
        },
        "outputId": "2bf4d3bf-82d7-440b-9241-a01a2c45e29a"
      },
      "source": [
        "#imprimindo as 5 primeiras linhas do df para confirmação\n",
        "df.head(5)\n"
      ],
      "execution_count": null,
      "outputs": [
        {
          "output_type": "execute_result",
          "data": {
            "text/html": [
              "<div>\n",
              "<style scoped>\n",
              "    .dataframe tbody tr th:only-of-type {\n",
              "        vertical-align: middle;\n",
              "    }\n",
              "\n",
              "    .dataframe tbody tr th {\n",
              "        vertical-align: top;\n",
              "    }\n",
              "\n",
              "    .dataframe thead th {\n",
              "        text-align: right;\n",
              "    }\n",
              "</style>\n",
              "<table border=\"1\" class=\"dataframe\">\n",
              "  <thead>\n",
              "    <tr style=\"text-align: right;\">\n",
              "      <th></th>\n",
              "      <th>V1</th>\n",
              "      <th>V2</th>\n",
              "      <th>V3</th>\n",
              "      <th>V4</th>\n",
              "      <th>V5</th>\n",
              "      <th>V6</th>\n",
              "      <th>V7</th>\n",
              "      <th>V8</th>\n",
              "      <th>V9</th>\n",
              "      <th>V10</th>\n",
              "      <th>Class</th>\n",
              "    </tr>\n",
              "  </thead>\n",
              "  <tbody>\n",
              "    <tr>\n",
              "      <th>0</th>\n",
              "      <td>65</td>\n",
              "      <td>Female</td>\n",
              "      <td>0.7</td>\n",
              "      <td>0.1</td>\n",
              "      <td>187</td>\n",
              "      <td>16</td>\n",
              "      <td>18</td>\n",
              "      <td>6.8</td>\n",
              "      <td>3.3</td>\n",
              "      <td>0.90</td>\n",
              "      <td>1</td>\n",
              "    </tr>\n",
              "    <tr>\n",
              "      <th>1</th>\n",
              "      <td>62</td>\n",
              "      <td>Male</td>\n",
              "      <td>10.9</td>\n",
              "      <td>5.5</td>\n",
              "      <td>699</td>\n",
              "      <td>64</td>\n",
              "      <td>100</td>\n",
              "      <td>7.5</td>\n",
              "      <td>3.2</td>\n",
              "      <td>0.74</td>\n",
              "      <td>1</td>\n",
              "    </tr>\n",
              "    <tr>\n",
              "      <th>2</th>\n",
              "      <td>62</td>\n",
              "      <td>Male</td>\n",
              "      <td>7.3</td>\n",
              "      <td>4.1</td>\n",
              "      <td>490</td>\n",
              "      <td>60</td>\n",
              "      <td>68</td>\n",
              "      <td>7.0</td>\n",
              "      <td>3.3</td>\n",
              "      <td>0.89</td>\n",
              "      <td>1</td>\n",
              "    </tr>\n",
              "    <tr>\n",
              "      <th>3</th>\n",
              "      <td>58</td>\n",
              "      <td>Male</td>\n",
              "      <td>1.0</td>\n",
              "      <td>0.4</td>\n",
              "      <td>182</td>\n",
              "      <td>14</td>\n",
              "      <td>20</td>\n",
              "      <td>6.8</td>\n",
              "      <td>3.4</td>\n",
              "      <td>1.00</td>\n",
              "      <td>1</td>\n",
              "    </tr>\n",
              "    <tr>\n",
              "      <th>4</th>\n",
              "      <td>72</td>\n",
              "      <td>Male</td>\n",
              "      <td>3.9</td>\n",
              "      <td>2.0</td>\n",
              "      <td>195</td>\n",
              "      <td>27</td>\n",
              "      <td>59</td>\n",
              "      <td>7.3</td>\n",
              "      <td>2.4</td>\n",
              "      <td>0.40</td>\n",
              "      <td>1</td>\n",
              "    </tr>\n",
              "  </tbody>\n",
              "</table>\n",
              "</div>"
            ],
            "text/plain": [
              "   V1      V2    V3   V4   V5  V6   V7   V8   V9   V10  Class\n",
              "0  65  Female   0.7  0.1  187  16   18  6.8  3.3  0.90      1\n",
              "1  62    Male  10.9  5.5  699  64  100  7.5  3.2  0.74      1\n",
              "2  62    Male   7.3  4.1  490  60   68  7.0  3.3  0.89      1\n",
              "3  58    Male   1.0  0.4  182  14   20  6.8  3.4  1.00      1\n",
              "4  72    Male   3.9  2.0  195  27   59  7.3  2.4  0.40      1"
            ]
          },
          "metadata": {
            "tags": []
          },
          "execution_count": 3
        }
      ]
    },
    {
      "cell_type": "code",
      "metadata": {
        "id": "d_lxVAD-8N86",
        "colab": {
          "base_uri": "https://localhost:8080/"
        },
        "outputId": "17278661-0b31-451c-d72e-7ea91cf6f504"
      },
      "source": [
        "# Verificando o numero de amostras (linhas) e features (colunas) do dataset. \n",
        "print('Amostras e Features:', df.shape)\n"
      ],
      "execution_count": null,
      "outputs": [
        {
          "output_type": "stream",
          "text": [
            "Amostras e Features: (583, 11)\n"
          ],
          "name": "stdout"
        }
      ]
    },
    {
      "cell_type": "code",
      "metadata": {
        "id": "CxzIwtTSTYnQ",
        "colab": {
          "base_uri": "https://localhost:8080/"
        },
        "outputId": "04d08120-3870-4aa0-9ee3-36cd16f3e302"
      },
      "source": [
        "# Verificando quais são os tipos das features\n",
        "df.columns\n"
      ],
      "execution_count": null,
      "outputs": [
        {
          "output_type": "execute_result",
          "data": {
            "text/plain": [
              "Index(['V1', 'V2', 'V3', 'V4', 'V5', 'V6', 'V7', 'V8', 'V9', 'V10', 'Class'], dtype='object')"
            ]
          },
          "metadata": {
            "tags": []
          },
          "execution_count": 5
        }
      ]
    },
    {
      "cell_type": "markdown",
      "metadata": {
        "id": "b2aq9YGyJ_YN"
      },
      "source": [
        "### Pré processamento"
      ]
    },
    {
      "cell_type": "code",
      "metadata": {
        "id": "ipgOZQEZOz75",
        "colab": {
          "base_uri": "https://localhost:8080/"
        },
        "outputId": "5f052e92-7bfa-4f36-ddf5-5df4bdc568a1"
      },
      "source": [
        "print(np.unique(df['Class']))\n"
      ],
      "execution_count": null,
      "outputs": [
        {
          "output_type": "stream",
          "text": [
            "[1 2]\n"
          ],
          "name": "stdout"
        }
      ]
    },
    {
      "cell_type": "markdown",
      "metadata": {
        "id": "7Fb8MFeTOmSv"
      },
      "source": [
        "Mapeamentos das classes"
      ]
    },
    {
      "cell_type": "code",
      "metadata": {
        "id": "qA5vg1ihPLn1",
        "colab": {
          "base_uri": "https://localhost:8080/",
          "height": 204
        },
        "outputId": "12ba24b7-1adb-438e-9f9f-61a8f2adccc7"
      },
      "source": [
        "#criando um dicionario de dados para o mapeamento\n",
        "#name_to_class = {\n",
        "#    1: 0,\n",
        "#    2: 1,\n",
        "#}\n",
        "\n",
        "name_to_V2 = {\n",
        "    'Female':0,\n",
        "    'Male':1,\n",
        "}\n",
        "\n",
        "#substituindo os valores categóricos pelo mapeamento\n",
        "#df['Class'] = df['Class'].map(name_to_class)\n",
        "df['V2'] = df['V2'].map(name_to_V2)\n",
        "\n",
        "#check\n",
        "df.head(5)"
      ],
      "execution_count": null,
      "outputs": [
        {
          "output_type": "execute_result",
          "data": {
            "text/html": [
              "<div>\n",
              "<style scoped>\n",
              "    .dataframe tbody tr th:only-of-type {\n",
              "        vertical-align: middle;\n",
              "    }\n",
              "\n",
              "    .dataframe tbody tr th {\n",
              "        vertical-align: top;\n",
              "    }\n",
              "\n",
              "    .dataframe thead th {\n",
              "        text-align: right;\n",
              "    }\n",
              "</style>\n",
              "<table border=\"1\" class=\"dataframe\">\n",
              "  <thead>\n",
              "    <tr style=\"text-align: right;\">\n",
              "      <th></th>\n",
              "      <th>V1</th>\n",
              "      <th>V2</th>\n",
              "      <th>V3</th>\n",
              "      <th>V4</th>\n",
              "      <th>V5</th>\n",
              "      <th>V6</th>\n",
              "      <th>V7</th>\n",
              "      <th>V8</th>\n",
              "      <th>V9</th>\n",
              "      <th>V10</th>\n",
              "      <th>Class</th>\n",
              "    </tr>\n",
              "  </thead>\n",
              "  <tbody>\n",
              "    <tr>\n",
              "      <th>0</th>\n",
              "      <td>65</td>\n",
              "      <td>0</td>\n",
              "      <td>0.7</td>\n",
              "      <td>0.1</td>\n",
              "      <td>187</td>\n",
              "      <td>16</td>\n",
              "      <td>18</td>\n",
              "      <td>6.8</td>\n",
              "      <td>3.3</td>\n",
              "      <td>0.90</td>\n",
              "      <td>1</td>\n",
              "    </tr>\n",
              "    <tr>\n",
              "      <th>1</th>\n",
              "      <td>62</td>\n",
              "      <td>1</td>\n",
              "      <td>10.9</td>\n",
              "      <td>5.5</td>\n",
              "      <td>699</td>\n",
              "      <td>64</td>\n",
              "      <td>100</td>\n",
              "      <td>7.5</td>\n",
              "      <td>3.2</td>\n",
              "      <td>0.74</td>\n",
              "      <td>1</td>\n",
              "    </tr>\n",
              "    <tr>\n",
              "      <th>2</th>\n",
              "      <td>62</td>\n",
              "      <td>1</td>\n",
              "      <td>7.3</td>\n",
              "      <td>4.1</td>\n",
              "      <td>490</td>\n",
              "      <td>60</td>\n",
              "      <td>68</td>\n",
              "      <td>7.0</td>\n",
              "      <td>3.3</td>\n",
              "      <td>0.89</td>\n",
              "      <td>1</td>\n",
              "    </tr>\n",
              "    <tr>\n",
              "      <th>3</th>\n",
              "      <td>58</td>\n",
              "      <td>1</td>\n",
              "      <td>1.0</td>\n",
              "      <td>0.4</td>\n",
              "      <td>182</td>\n",
              "      <td>14</td>\n",
              "      <td>20</td>\n",
              "      <td>6.8</td>\n",
              "      <td>3.4</td>\n",
              "      <td>1.00</td>\n",
              "      <td>1</td>\n",
              "    </tr>\n",
              "    <tr>\n",
              "      <th>4</th>\n",
              "      <td>72</td>\n",
              "      <td>1</td>\n",
              "      <td>3.9</td>\n",
              "      <td>2.0</td>\n",
              "      <td>195</td>\n",
              "      <td>27</td>\n",
              "      <td>59</td>\n",
              "      <td>7.3</td>\n",
              "      <td>2.4</td>\n",
              "      <td>0.40</td>\n",
              "      <td>1</td>\n",
              "    </tr>\n",
              "  </tbody>\n",
              "</table>\n",
              "</div>"
            ],
            "text/plain": [
              "   V1  V2    V3   V4   V5  V6   V7   V8   V9   V10  Class\n",
              "0  65   0   0.7  0.1  187  16   18  6.8  3.3  0.90      1\n",
              "1  62   1  10.9  5.5  699  64  100  7.5  3.2  0.74      1\n",
              "2  62   1   7.3  4.1  490  60   68  7.0  3.3  0.89      1\n",
              "3  58   1   1.0  0.4  182  14   20  6.8  3.4  1.00      1\n",
              "4  72   1   3.9  2.0  195  27   59  7.3  2.4  0.40      1"
            ]
          },
          "metadata": {
            "tags": []
          },
          "execution_count": 7
        }
      ]
    },
    {
      "cell_type": "markdown",
      "metadata": {
        "id": "_J94oUYW8N9Q"
      },
      "source": [
        "Uma outra etapa importante do pré-processamento consiste na avaliação de dados faltantes. \n",
        "\n"
      ]
    },
    {
      "cell_type": "code",
      "metadata": {
        "id": "o4c-xLPZLhl-",
        "colab": {
          "base_uri": "https://localhost:8080/",
          "height": 297
        },
        "outputId": "aa575f99-0ab3-4499-ae25-f4c2d0155d62"
      },
      "source": [
        "# Analisando o resumo da base\n",
        "df.describe()\n"
      ],
      "execution_count": null,
      "outputs": [
        {
          "output_type": "execute_result",
          "data": {
            "text/html": [
              "<div>\n",
              "<style scoped>\n",
              "    .dataframe tbody tr th:only-of-type {\n",
              "        vertical-align: middle;\n",
              "    }\n",
              "\n",
              "    .dataframe tbody tr th {\n",
              "        vertical-align: top;\n",
              "    }\n",
              "\n",
              "    .dataframe thead th {\n",
              "        text-align: right;\n",
              "    }\n",
              "</style>\n",
              "<table border=\"1\" class=\"dataframe\">\n",
              "  <thead>\n",
              "    <tr style=\"text-align: right;\">\n",
              "      <th></th>\n",
              "      <th>V1</th>\n",
              "      <th>V2</th>\n",
              "      <th>V3</th>\n",
              "      <th>V4</th>\n",
              "      <th>V5</th>\n",
              "      <th>V6</th>\n",
              "      <th>V7</th>\n",
              "      <th>V8</th>\n",
              "      <th>V9</th>\n",
              "      <th>V10</th>\n",
              "      <th>Class</th>\n",
              "    </tr>\n",
              "  </thead>\n",
              "  <tbody>\n",
              "    <tr>\n",
              "      <th>count</th>\n",
              "      <td>583.000000</td>\n",
              "      <td>583.000000</td>\n",
              "      <td>583.000000</td>\n",
              "      <td>583.000000</td>\n",
              "      <td>583.000000</td>\n",
              "      <td>583.000000</td>\n",
              "      <td>583.000000</td>\n",
              "      <td>583.000000</td>\n",
              "      <td>583.000000</td>\n",
              "      <td>583.000000</td>\n",
              "      <td>583.000000</td>\n",
              "    </tr>\n",
              "    <tr>\n",
              "      <th>mean</th>\n",
              "      <td>44.746141</td>\n",
              "      <td>0.756432</td>\n",
              "      <td>3.298799</td>\n",
              "      <td>1.486106</td>\n",
              "      <td>290.576329</td>\n",
              "      <td>80.713551</td>\n",
              "      <td>109.910806</td>\n",
              "      <td>6.483190</td>\n",
              "      <td>3.141852</td>\n",
              "      <td>0.947064</td>\n",
              "      <td>1.286449</td>\n",
              "    </tr>\n",
              "    <tr>\n",
              "      <th>std</th>\n",
              "      <td>16.189833</td>\n",
              "      <td>0.429603</td>\n",
              "      <td>6.209522</td>\n",
              "      <td>2.808498</td>\n",
              "      <td>242.937989</td>\n",
              "      <td>182.620356</td>\n",
              "      <td>288.918529</td>\n",
              "      <td>1.085451</td>\n",
              "      <td>0.795519</td>\n",
              "      <td>0.318492</td>\n",
              "      <td>0.452490</td>\n",
              "    </tr>\n",
              "    <tr>\n",
              "      <th>min</th>\n",
              "      <td>4.000000</td>\n",
              "      <td>0.000000</td>\n",
              "      <td>0.400000</td>\n",
              "      <td>0.100000</td>\n",
              "      <td>63.000000</td>\n",
              "      <td>10.000000</td>\n",
              "      <td>10.000000</td>\n",
              "      <td>2.700000</td>\n",
              "      <td>0.900000</td>\n",
              "      <td>0.300000</td>\n",
              "      <td>1.000000</td>\n",
              "    </tr>\n",
              "    <tr>\n",
              "      <th>25%</th>\n",
              "      <td>33.000000</td>\n",
              "      <td>1.000000</td>\n",
              "      <td>0.800000</td>\n",
              "      <td>0.200000</td>\n",
              "      <td>175.500000</td>\n",
              "      <td>23.000000</td>\n",
              "      <td>25.000000</td>\n",
              "      <td>5.800000</td>\n",
              "      <td>2.600000</td>\n",
              "      <td>0.700000</td>\n",
              "      <td>1.000000</td>\n",
              "    </tr>\n",
              "    <tr>\n",
              "      <th>50%</th>\n",
              "      <td>45.000000</td>\n",
              "      <td>1.000000</td>\n",
              "      <td>1.000000</td>\n",
              "      <td>0.300000</td>\n",
              "      <td>208.000000</td>\n",
              "      <td>35.000000</td>\n",
              "      <td>42.000000</td>\n",
              "      <td>6.600000</td>\n",
              "      <td>3.100000</td>\n",
              "      <td>0.947064</td>\n",
              "      <td>1.000000</td>\n",
              "    </tr>\n",
              "    <tr>\n",
              "      <th>75%</th>\n",
              "      <td>58.000000</td>\n",
              "      <td>1.000000</td>\n",
              "      <td>2.600000</td>\n",
              "      <td>1.300000</td>\n",
              "      <td>298.000000</td>\n",
              "      <td>60.500000</td>\n",
              "      <td>87.000000</td>\n",
              "      <td>7.200000</td>\n",
              "      <td>3.800000</td>\n",
              "      <td>1.100000</td>\n",
              "      <td>2.000000</td>\n",
              "    </tr>\n",
              "    <tr>\n",
              "      <th>max</th>\n",
              "      <td>90.000000</td>\n",
              "      <td>1.000000</td>\n",
              "      <td>75.000000</td>\n",
              "      <td>19.700000</td>\n",
              "      <td>2110.000000</td>\n",
              "      <td>2000.000000</td>\n",
              "      <td>4929.000000</td>\n",
              "      <td>9.600000</td>\n",
              "      <td>5.500000</td>\n",
              "      <td>2.800000</td>\n",
              "      <td>2.000000</td>\n",
              "    </tr>\n",
              "  </tbody>\n",
              "</table>\n",
              "</div>"
            ],
            "text/plain": [
              "               V1          V2          V3  ...          V9         V10       Class\n",
              "count  583.000000  583.000000  583.000000  ...  583.000000  583.000000  583.000000\n",
              "mean    44.746141    0.756432    3.298799  ...    3.141852    0.947064    1.286449\n",
              "std     16.189833    0.429603    6.209522  ...    0.795519    0.318492    0.452490\n",
              "min      4.000000    0.000000    0.400000  ...    0.900000    0.300000    1.000000\n",
              "25%     33.000000    1.000000    0.800000  ...    2.600000    0.700000    1.000000\n",
              "50%     45.000000    1.000000    1.000000  ...    3.100000    0.947064    1.000000\n",
              "75%     58.000000    1.000000    2.600000  ...    3.800000    1.100000    2.000000\n",
              "max     90.000000    1.000000   75.000000  ...    5.500000    2.800000    2.000000\n",
              "\n",
              "[8 rows x 11 columns]"
            ]
          },
          "metadata": {
            "tags": []
          },
          "execution_count": 8
        }
      ]
    },
    {
      "cell_type": "code",
      "metadata": {
        "id": "b_zNoSq9xmlr",
        "colab": {
          "base_uri": "https://localhost:8080/"
        },
        "outputId": "f9b5d4ad-7048-40ed-d95c-52f360fafcc3"
      },
      "source": [
        "df.isnull().sum() #verificação de elementos faltantes"
      ],
      "execution_count": null,
      "outputs": [
        {
          "output_type": "execute_result",
          "data": {
            "text/plain": [
              "V1       0\n",
              "V2       0\n",
              "V3       0\n",
              "V4       0\n",
              "V5       0\n",
              "V6       0\n",
              "V7       0\n",
              "V8       0\n",
              "V9       0\n",
              "V10      0\n",
              "Class    0\n",
              "dtype: int64"
            ]
          },
          "metadata": {
            "tags": []
          },
          "execution_count": 9
        }
      ]
    },
    {
      "cell_type": "markdown",
      "metadata": {
        "id": "-mH3u8WT8N9f"
      },
      "source": [
        "Os modelos implementados no sklearn recebem como entrada para a modelagam um ou mais arrays. Dessa forma, precisamos modificar o df original para que seja possível a modelagem correta. \n",
        "\n",
        "Para isso, vamos separar o label das amotras, armazenar o nome das featues já que os arrays não fazem isso e depois retirar a coluna de labels do df original. Em seguida, vamos converter o df para array usando o numpy!"
      ]
    },
    {
      "cell_type": "code",
      "metadata": {
        "id": "M1A5VS2QPmAC",
        "colab": {
          "base_uri": "https://localhost:8080/"
        },
        "outputId": "817be714-10f9-4e0d-ea9f-1d55282e74ec"
      },
      "source": [
        "#df classifiers\n",
        "\n",
        "# armazenando os labels em um array\n",
        "labels = np.array(df['Class'])\n",
        "\n",
        "# salvando a ordem das features\n",
        "feature_list_cf = list(df.columns)\n",
        "\n",
        "# removendo a coluna de labels do df original\n",
        "df = df.drop('Class', axis = 1)\n",
        "\n",
        "# check\n",
        "df.columns"
      ],
      "execution_count": null,
      "outputs": [
        {
          "output_type": "execute_result",
          "data": {
            "text/plain": [
              "Index(['V1', 'V2', 'V3', 'V4', 'V5', 'V6', 'V7', 'V8', 'V9', 'V10'], dtype='object')"
            ]
          },
          "metadata": {
            "tags": []
          },
          "execution_count": 10
        }
      ]
    },
    {
      "cell_type": "code",
      "metadata": {
        "id": "_v2r0RywPl4q"
      },
      "source": [
        "# convertendo df para array\n",
        "data = np.array(df)"
      ],
      "execution_count": null,
      "outputs": []
    },
    {
      "cell_type": "markdown",
      "metadata": {
        "id": "qwDXBcNZU94q"
      },
      "source": [
        "### Classificação com SVM e RandomForestClassifier\n"
      ]
    },
    {
      "cell_type": "code",
      "metadata": {
        "id": "BpL6_Fj9WdLN"
      },
      "source": [
        "#importar o modelo SVR e suas bibliotecas\n",
        "from sklearn.svm import SVC\n",
        "from sklearn.ensemble import RandomForestClassifier\n",
        "from sklearn.model_selection import StratifiedKFold\n",
        "from sklearn.model_selection import RandomizedSearchCV\n",
        "from scipy.stats import uniform\n",
        "from scipy.stats import randint\n",
        "from sklearn.metrics import f1_score, make_scorer\n"
      ],
      "execution_count": null,
      "outputs": []
    },
    {
      "cell_type": "markdown",
      "metadata": {
        "id": "a1uVbZXYoHf_"
      },
      "source": [
        "### 1o. SVC com Random Search"
      ]
    },
    {
      "cell_type": "code",
      "metadata": {
        "colab": {
          "base_uri": "https://localhost:8080/"
        },
        "id": "1ZzWNPwboGQr",
        "outputId": "8aa41346-4de4-4dbe-bb91-99521900928c"
      },
      "source": [
        "#definindo o tipo de validacao cruzada e o numero de folds\n",
        "cv_strat = StratifiedKFold(n_splits = 10)\n",
        "\n",
        "#definindo a estrategia de score a partir da metrica f1\n",
        "f1 = make_scorer(f1_score)\n",
        "\n",
        "#definindo hiperparâmetros\n",
        "distributions = dict(kernel = ['sigmoid', 'poly', 'rbf'], \n",
        "                     C = uniform(loc=1, scale=10))\n",
        "\n",
        "#instânciando meu classificador\n",
        "classifier = SVC()\n",
        "\n",
        "#instanciando e modelando o grid search com os hiperparametros e a validação definidas.\n",
        "random_cv = RandomizedSearchCV(classifier, distributions, cv = cv_strat, scoring = f1, random_state = 54, n_iter = 5)\n",
        "random_cv.fit(data, labels)"
      ],
      "execution_count": null,
      "outputs": [
        {
          "output_type": "execute_result",
          "data": {
            "text/plain": [
              "RandomizedSearchCV(cv=StratifiedKFold(n_splits=10, random_state=None, shuffle=False),\n",
              "                   error_score=nan,\n",
              "                   estimator=SVC(C=1.0, break_ties=False, cache_size=200,\n",
              "                                 class_weight=None, coef0=0.0,\n",
              "                                 decision_function_shape='ovr', degree=3,\n",
              "                                 gamma='scale', kernel='rbf', max_iter=-1,\n",
              "                                 probability=False, random_state=None,\n",
              "                                 shrinking=True, tol=0.001, verbose=False),\n",
              "                   iid='deprecated', n_iter=5, n_jobs=None,\n",
              "                   param_distributions={'C': <scipy.stats._distn_infrastructure.rv_frozen object at 0x7ffacdf1ae90>,\n",
              "                                        'kernel': ['sigmoid', 'poly', 'rbf']},\n",
              "                   pre_dispatch='2*n_jobs', random_state=54, refit=True,\n",
              "                   return_train_score=False, scoring=make_scorer(f1_score),\n",
              "                   verbose=0)"
            ]
          },
          "metadata": {
            "tags": []
          },
          "execution_count": 13
        }
      ]
    },
    {
      "cell_type": "code",
      "metadata": {
        "colab": {
          "base_uri": "https://localhost:8080/"
        },
        "id": "J5ag-y6Lo6mA",
        "outputId": "1d3c491a-4bdf-45aa-ac99-d6f6f8e4deef"
      },
      "source": [
        "#vamos olhar para todos os resultados encontrados!\n",
        "print('Resumo de todos os resultados encontrados:\\n\\n', random_cv.cv_results_)"
      ],
      "execution_count": null,
      "outputs": [
        {
          "output_type": "stream",
          "text": [
            "Resumo de todos os resultados encontrados:\n",
            "\n",
            " {'mean_fit_time': array([0.01511762, 0.06898134, 0.53582306, 0.62159181, 0.00688508]), 'std_fit_time': array([0.00252594, 0.01146963, 0.30060178, 0.28510738, 0.00040019]), 'mean_score_time': array([0.00200369, 0.00163147, 0.00162094, 0.00157762, 0.00170379]), 'std_score_time': array([1.09734386e-04, 1.28327566e-04, 1.83431144e-04, 6.12644827e-05,\n",
            "       4.58341720e-05]), 'param_C': masked_array(data=[5.201829671407738, 1.0251668829378993,\n",
            "                   6.182827281674762, 10.689362067194862,\n",
            "                   5.4431572971725455],\n",
            "             mask=[False, False, False, False, False],\n",
            "       fill_value='?',\n",
            "            dtype=object), 'param_kernel': masked_array(data=['rbf', 'poly', 'poly', 'poly', 'sigmoid'],\n",
            "             mask=[False, False, False, False, False],\n",
            "       fill_value='?',\n",
            "            dtype=object), 'params': [{'C': 5.201829671407738, 'kernel': 'rbf'}, {'C': 1.0251668829378993, 'kernel': 'poly'}, {'C': 6.182827281674762, 'kernel': 'poly'}, {'C': 10.689362067194862, 'kernel': 'poly'}, {'C': 5.4431572971725455, 'kernel': 'sigmoid'}], 'split0_test_score': array([0.83168317, 0.83168317, 0.82      , 0.80808081, 0.73563218]), 'split1_test_score': array([0.83168317, 0.83168317, 0.83168317, 0.83168317, 0.74074074]), 'split2_test_score': array([0.83168317, 0.83168317, 0.83168317, 0.83168317, 0.69767442]), 'split3_test_score': array([0.84      , 0.84      , 0.84      , 0.84      , 0.66666667]), 'split4_test_score': array([0.84      , 0.84      , 0.84      , 0.84      , 0.73809524]), 'split5_test_score': array([0.84      , 0.84      , 0.84      , 0.84      , 0.78571429]), 'split6_test_score': array([0.82828283, 0.82828283, 0.82828283, 0.82828283, 0.74358974]), 'split7_test_score': array([0.82828283, 0.82828283, 0.82828283, 0.82828283, 0.65      ]), 'split8_test_score': array([0.82828283, 0.82828283, 0.82828283, 0.82828283, 0.76744186]), 'split9_test_score': array([0.82828283, 0.82828283, 0.82828283, 0.82828283, 0.83146067]), 'mean_test_score': array([0.83281808, 0.83281808, 0.83164976, 0.83045785, 0.73570158]), 'std_test_score': array([0.00490793, 0.00490793, 0.00624695, 0.00892085, 0.05131132]), 'rank_test_score': array([1, 1, 3, 4, 5], dtype=int32)}\n"
          ],
          "name": "stdout"
        }
      ]
    },
    {
      "cell_type": "code",
      "metadata": {
        "colab": {
          "base_uri": "https://localhost:8080/"
        },
        "id": "oCAIBsOxo8U_",
        "outputId": "c8cd9297-fa14-4fcb-8ce6-5bd67f07d7f3"
      },
      "source": [
        "#vamos olhar para os melhores resultados encontrados pelo Grid Search\n",
        "print('Melhor resultado f1:', random_cv.best_score_)\n",
        "print('\\n\\nMelhor configuração de hiperparâmetros:', random_cv.best_params_)\n",
        "print( '\\n\\nConfigurações de todos os hiperparâmetros do melhor estimado encontrado pelo GridSearch: \\n', random_cv.best_estimator_)"
      ],
      "execution_count": null,
      "outputs": [
        {
          "output_type": "stream",
          "text": [
            "Melhor resultado f1: 0.832818081808181\n",
            "\n",
            "\n",
            "Melhor configuração de hiperparâmetros: {'C': 5.201829671407738, 'kernel': 'rbf'}\n",
            "\n",
            "\n",
            "Configurações de todos os hiperparâmetros do melhor estimado encontrado pelo GridSearch: \n",
            " SVC(C=5.201829671407738, break_ties=False, cache_size=200, class_weight=None,\n",
            "    coef0=0.0, decision_function_shape='ovr', degree=3, gamma='scale',\n",
            "    kernel='rbf', max_iter=-1, probability=False, random_state=None,\n",
            "    shrinking=True, tol=0.001, verbose=False)\n"
          ],
          "name": "stdout"
        }
      ]
    },
    {
      "cell_type": "markdown",
      "metadata": {
        "id": "pOkNULMFpEZ7"
      },
      "source": [
        "2o. Random Forest com Random Search"
      ]
    },
    {
      "cell_type": "code",
      "metadata": {
        "id": "oYppH6DipJQB"
      },
      "source": [
        "from scipy.stats import randint"
      ],
      "execution_count": null,
      "outputs": []
    },
    {
      "cell_type": "code",
      "metadata": {
        "colab": {
          "base_uri": "https://localhost:8080/"
        },
        "id": "9zKFovrepQlu",
        "outputId": "cb0a4381-7b6b-45d7-c94b-dd76790acf84"
      },
      "source": [
        "#definindo o tipo de validacao cruzada e o numero de folds\n",
        "cv_strat = StratifiedKFold(n_splits = 10)\n",
        "\n",
        "#definindo a estrategia de score a partir da metrica f1\n",
        "f1 = make_scorer(f1_score)\n",
        "\n",
        "#definindo hiperparâmetros\n",
        "distributions1 = dict(n_estimators = randint(10, 1000),\n",
        "                      bootstrap = [True, False],\n",
        "                      criterion = ['gini', 'entropy'])\n",
        "\n",
        "#instânciando meu classificador\n",
        "classifier1 = RandomForestClassifier(random_state=54)\n",
        "\n",
        "#instanciando e modelando o grid search com os hiperparametros e a validação definidas.\n",
        "random_cv1 = RandomizedSearchCV(classifier1, distributions1, cv = cv_strat, scoring = f1, random_state = 54, n_iter = 5)\n",
        "random_cv1.fit(data, labels)"
      ],
      "execution_count": null,
      "outputs": [
        {
          "output_type": "execute_result",
          "data": {
            "text/plain": [
              "RandomizedSearchCV(cv=StratifiedKFold(n_splits=10, random_state=None, shuffle=False),\n",
              "                   error_score=nan,\n",
              "                   estimator=RandomForestClassifier(bootstrap=True,\n",
              "                                                    ccp_alpha=0.0,\n",
              "                                                    class_weight=None,\n",
              "                                                    criterion='gini',\n",
              "                                                    max_depth=None,\n",
              "                                                    max_features='auto',\n",
              "                                                    max_leaf_nodes=None,\n",
              "                                                    max_samples=None,\n",
              "                                                    min_impurity_decrease=0.0,\n",
              "                                                    min_impurity_split=None,\n",
              "                                                    min_samples_leaf=1,\n",
              "                                                    min_samples_s...\n",
              "                                                    random_state=54, verbose=0,\n",
              "                                                    warm_start=False),\n",
              "                   iid='deprecated', n_iter=5, n_jobs=None,\n",
              "                   param_distributions={'bootstrap': [True, False],\n",
              "                                        'criterion': ['gini', 'entropy'],\n",
              "                                        'n_estimators': <scipy.stats._distn_infrastructure.rv_frozen object at 0x7ffae06585d0>},\n",
              "                   pre_dispatch='2*n_jobs', random_state=54, refit=True,\n",
              "                   return_train_score=False, scoring=make_scorer(f1_score),\n",
              "                   verbose=0)"
            ]
          },
          "metadata": {
            "tags": []
          },
          "execution_count": 17
        }
      ]
    },
    {
      "cell_type": "code",
      "metadata": {
        "colab": {
          "base_uri": "https://localhost:8080/"
        },
        "id": "AI8RuPmspg4M",
        "outputId": "bc4233a8-243b-420a-8037-26ab632009c2"
      },
      "source": [
        "#vamos olhar para todos os resultados encontrados!\n",
        "print('Resumo de todos os resultados encontrados:\\n\\n', random_cv1.cv_results_)"
      ],
      "execution_count": null,
      "outputs": [
        {
          "output_type": "stream",
          "text": [
            "Resumo de todos os resultados encontrados:\n",
            "\n",
            " {'mean_fit_time': array([2.23637841, 1.83381484, 1.79951355, 1.28574142, 1.76156077]), 'std_fit_time': array([0.03395478, 0.01022222, 0.02750288, 0.0156154 , 0.01410828]), 'mean_score_time': array([0.11198997, 0.09125595, 0.10843649, 0.06589072, 0.09002848]), 'std_score_time': array([0.01876396, 0.012752  , 0.00958552, 0.00745456, 0.01110043]), 'param_bootstrap': masked_array(data=[False, False, True, False, False],\n",
            "             mask=[False, False, False, False, False],\n",
            "       fill_value='?',\n",
            "            dtype=object), 'param_criterion': masked_array(data=['entropy', 'entropy', 'gini', 'entropy', 'entropy'],\n",
            "             mask=[False, False, False, False, False],\n",
            "       fill_value='?',\n",
            "            dtype=object), 'param_n_estimators': masked_array(data=[908, 747, 913, 528, 718],\n",
            "             mask=[False, False, False, False, False],\n",
            "       fill_value='?',\n",
            "            dtype=object), 'params': [{'bootstrap': False, 'criterion': 'entropy', 'n_estimators': 908}, {'bootstrap': False, 'criterion': 'entropy', 'n_estimators': 747}, {'bootstrap': True, 'criterion': 'gini', 'n_estimators': 913}, {'bootstrap': False, 'criterion': 'entropy', 'n_estimators': 528}, {'bootstrap': False, 'criterion': 'entropy', 'n_estimators': 718}], 'split0_test_score': array([0.79569892, 0.79569892, 0.8172043 , 0.7826087 , 0.7826087 ]), 'split1_test_score': array([0.76404494, 0.76404494, 0.80434783, 0.75      , 0.76404494]), 'split2_test_score': array([0.82978723, 0.8172043 , 0.82105263, 0.8172043 , 0.82978723]), 'split3_test_score': array([0.82758621, 0.82758621, 0.85393258, 0.82758621, 0.82758621]), 'split4_test_score': array([0.74418605, 0.74418605, 0.79545455, 0.74418605, 0.75294118]), 'split5_test_score': array([0.775    , 0.775    , 0.7804878, 0.775    , 0.775    ]), 'split6_test_score': array([0.73684211, 0.73684211, 0.77922078, 0.73684211, 0.75324675]), 'split7_test_score': array([0.66666667, 0.66666667, 0.69047619, 0.66666667, 0.65853659]), 'split8_test_score': array([0.80434783, 0.80434783, 0.77419355, 0.80851064, 0.80434783]), 'split9_test_score': array([0.81318681, 0.80434783, 0.84210526, 0.80434783, 0.80434783]), 'mean_test_score': array([0.77573468, 0.77359248, 0.79584755, 0.77129525, 0.77524472]), 'std_test_score': array([0.04771915, 0.04575957, 0.04331496, 0.04606305, 0.04710665]), 'rank_test_score': array([2, 4, 1, 5, 3], dtype=int32)}\n"
          ],
          "name": "stdout"
        }
      ]
    },
    {
      "cell_type": "code",
      "metadata": {
        "colab": {
          "base_uri": "https://localhost:8080/"
        },
        "id": "9ZGiUHAcpicE",
        "outputId": "5396545b-406b-44af-e213-eeea1a53b83b"
      },
      "source": [
        "#vamos olhar para os melhores resultados encontrados pelo Grid Search\n",
        "print('Melhor resultado f1:', random_cv1.best_score_)\n",
        "print('\\n\\nMelhor configuração de hiperparâmetros:', random_cv1.best_params_)\n",
        "print( '\\n\\nConfigurações de todos os hiperparâmetros do melhor estimado encontrado pelo GridSearch: \\n', random_cv1.best_estimator_)"
      ],
      "execution_count": null,
      "outputs": [
        {
          "output_type": "stream",
          "text": [
            "Melhor resultado f1: 0.7958475474585391\n",
            "\n",
            "\n",
            "Melhor configuração de hiperparâmetros: {'bootstrap': True, 'criterion': 'gini', 'n_estimators': 913}\n",
            "\n",
            "\n",
            "Configurações de todos os hiperparâmetros do melhor estimado encontrado pelo GridSearch: \n",
            " RandomForestClassifier(bootstrap=True, ccp_alpha=0.0, class_weight=None,\n",
            "                       criterion='gini', max_depth=None, max_features='auto',\n",
            "                       max_leaf_nodes=None, max_samples=None,\n",
            "                       min_impurity_decrease=0.0, min_impurity_split=None,\n",
            "                       min_samples_leaf=1, min_samples_split=2,\n",
            "                       min_weight_fraction_leaf=0.0, n_estimators=913,\n",
            "                       n_jobs=None, oob_score=False, random_state=54, verbose=0,\n",
            "                       warm_start=False)\n"
          ],
          "name": "stdout"
        }
      ]
    }
  ]
}