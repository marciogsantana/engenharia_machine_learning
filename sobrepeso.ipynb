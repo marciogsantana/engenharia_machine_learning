{
  "nbformat": 4,
  "nbformat_minor": 0,
  "metadata": {
    "colab": {
      "name": "sobrepeso.ipynb",
      "provenance": [],
      "include_colab_link": true
    },
    "kernelspec": {
      "name": "python3",
      "display_name": "Python 3"
    },
    "language_info": {
      "name": "python"
    }
  },
  "cells": [
    {
      "cell_type": "markdown",
      "metadata": {
        "id": "view-in-github",
        "colab_type": "text"
      },
      "source": [
        "<a href=\"https://colab.research.google.com/github/marciogsantana/engenharia_machine_learning/blob/main/sobrepeso.ipynb\" target=\"_parent\"><img src=\"https://colab.research.google.com/assets/colab-badge.svg\" alt=\"Open In Colab\"/></a>"
      ]
    },
    {
      "cell_type": "code",
      "metadata": {
        "id": "9INksqFpg2Lk"
      },
      "source": [
        "import pandas as pd                 #modulo para criar os dataframes e realizar o tratamento dos dados\n",
        "import numpy as np                  #módulo utilizado para a realizar operaçãos com matrizes e vetores\n",
        "import matplotlib.pyplot as plt     #módulo empregado para a construção de gráficos"
      ],
      "execution_count": null,
      "outputs": []
    },
    {
      "cell_type": "code",
      "metadata": {
        "id": "0uLJXwzKhIKT"
      },
      "source": [
        "#definição dos vetores utilizados\n",
        "peso=[70,57,100,72,64,70,82,66,65]              # peso dos indivíduos\n",
        "altura=[155,160,183,175,165,182,172,186,184]    #altura dos indivíduos\n",
        "#classe=[1,0,1,0,1,0,1,0,0]\n",
        "classe=['Sobrepeso','Normal','Sobrepeso','Normal','Sobrepeso','Normal','Sobrepeso','Normal','Normal']   #classificação dos indivíduos segundo as características (peso, altura)"
      ],
      "execution_count": null,
      "outputs": []
    },
    {
      "cell_type": "code",
      "metadata": {
        "id": "Xa5TKiFOibzJ"
      },
      "source": [
        "#construção do dataframe \n",
        "df=pd.DataFrame(list(zip(peso, altura,classe)),\n",
        "               columns =['Peso (kg)', 'Altura (cm)','Sobrepeso'])"
      ],
      "execution_count": null,
      "outputs": []
    },
    {
      "cell_type": "code",
      "metadata": {
        "colab": {
          "base_uri": "https://localhost:8080/",
          "height": 328
        },
        "id": "u58PJkD1lXOY",
        "outputId": "6764d506-924c-4425-f55a-20eed4036f57"
      },
      "source": [
        "#mostrando os dados\n",
        "df.head(10)"
      ],
      "execution_count": null,
      "outputs": [
        {
          "output_type": "execute_result",
          "data": {
            "text/html": [
              "<div>\n",
              "<style scoped>\n",
              "    .dataframe tbody tr th:only-of-type {\n",
              "        vertical-align: middle;\n",
              "    }\n",
              "\n",
              "    .dataframe tbody tr th {\n",
              "        vertical-align: top;\n",
              "    }\n",
              "\n",
              "    .dataframe thead th {\n",
              "        text-align: right;\n",
              "    }\n",
              "</style>\n",
              "<table border=\"1\" class=\"dataframe\">\n",
              "  <thead>\n",
              "    <tr style=\"text-align: right;\">\n",
              "      <th></th>\n",
              "      <th>Peso (kg)</th>\n",
              "      <th>Altura (cm)</th>\n",
              "      <th>Sobrepeso</th>\n",
              "    </tr>\n",
              "  </thead>\n",
              "  <tbody>\n",
              "    <tr>\n",
              "      <th>0</th>\n",
              "      <td>70</td>\n",
              "      <td>155</td>\n",
              "      <td>Sobrepeso</td>\n",
              "    </tr>\n",
              "    <tr>\n",
              "      <th>1</th>\n",
              "      <td>57</td>\n",
              "      <td>160</td>\n",
              "      <td>Normal</td>\n",
              "    </tr>\n",
              "    <tr>\n",
              "      <th>2</th>\n",
              "      <td>100</td>\n",
              "      <td>183</td>\n",
              "      <td>Sobrepeso</td>\n",
              "    </tr>\n",
              "    <tr>\n",
              "      <th>3</th>\n",
              "      <td>72</td>\n",
              "      <td>175</td>\n",
              "      <td>Normal</td>\n",
              "    </tr>\n",
              "    <tr>\n",
              "      <th>4</th>\n",
              "      <td>64</td>\n",
              "      <td>165</td>\n",
              "      <td>Sobrepeso</td>\n",
              "    </tr>\n",
              "    <tr>\n",
              "      <th>5</th>\n",
              "      <td>70</td>\n",
              "      <td>182</td>\n",
              "      <td>Normal</td>\n",
              "    </tr>\n",
              "    <tr>\n",
              "      <th>6</th>\n",
              "      <td>82</td>\n",
              "      <td>172</td>\n",
              "      <td>Sobrepeso</td>\n",
              "    </tr>\n",
              "    <tr>\n",
              "      <th>7</th>\n",
              "      <td>66</td>\n",
              "      <td>186</td>\n",
              "      <td>Normal</td>\n",
              "    </tr>\n",
              "    <tr>\n",
              "      <th>8</th>\n",
              "      <td>65</td>\n",
              "      <td>184</td>\n",
              "      <td>Normal</td>\n",
              "    </tr>\n",
              "  </tbody>\n",
              "</table>\n",
              "</div>"
            ],
            "text/plain": [
              "   Peso (kg)  Altura (cm)  Sobrepeso\n",
              "0         70          155  Sobrepeso\n",
              "1         57          160     Normal\n",
              "2        100          183  Sobrepeso\n",
              "3         72          175     Normal\n",
              "4         64          165  Sobrepeso\n",
              "5         70          182     Normal\n",
              "6         82          172  Sobrepeso\n",
              "7         66          186     Normal\n",
              "8         65          184     Normal"
            ]
          },
          "metadata": {
            "tags": []
          },
          "execution_count": 5
        }
      ]
    },
    {
      "cell_type": "code",
      "metadata": {
        "colab": {
          "base_uri": "https://localhost:8080/",
          "height": 295
        },
        "id": "qPt2wiDWi2vM",
        "outputId": "a7b6cf57-02be-48dd-c4fe-408063ec5795"
      },
      "source": [
        "#realizando a construção dos gráficos\n",
        "groups = df.groupby('Sobrepeso')\n",
        "\n",
        "# Plot\n",
        "fig, ax = plt.subplots()\n",
        "ax.margins(0.05) \n",
        "#realiza a iteração sobre cada um dos grupos construídos (normal e sobrepeso)\n",
        "for name, group in groups:\n",
        "    ax.plot(group['Peso (kg)'], group['Altura (cm)'], marker='o', linestyle='', ms=12, label=name)\n",
        "\n",
        "ax.legend()\n",
        "plt.xlabel('Peso (kg)')\n",
        "plt.ylabel('Altura (cm)')\n",
        "plt.title('Peso e altura de indivíduos')\n",
        "leg = ax.legend(loc =\"lower right\"); #define a localização da legenda\n",
        "plt.show()"
      ],
      "execution_count": null,
      "outputs": [
        {
          "output_type": "display_data",
          "data": {
            "image/png": "[encoded data removed]",
            "text/plain": [
              "<Figure size 432x288 with 1 Axes>"
            ]
          },
          "metadata": {
            "tags": [],
            "needs_background": "light"
          }
        }
      ]
    },
    {
      "cell_type": "code",
      "metadata": {
        "id": "MVFcJ6w_djYp"
      },
      "source": [
        ""
      ],
      "execution_count": null,
      "outputs": []
    },
    {
      "cell_type": "code",
      "metadata": {
        "id": "vjwebx3OdjgV"
      },
      "source": [
        ""
      ],
      "execution_count": null,
      "outputs": []
    },
    {
      "cell_type": "code",
      "metadata": {
        "id": "mIljQ2rodjmk"
      },
      "source": [
        ""
      ],
      "execution_count": null,
      "outputs": []
    },
    {
      "cell_type": "code",
      "metadata": {
        "id": "Vxl4VssEdjrr"
      },
      "source": [
        ""
      ],
      "execution_count": null,
      "outputs": []
    },
    {
      "cell_type": "code",
      "metadata": {
        "id": "xs6bVv6udjvx"
      },
      "source": [
        ""
      ],
      "execution_count": null,
      "outputs": []
    },
    {
      "cell_type": "code",
      "metadata": {
        "id": "jvJWoj3xrsNl"
      },
      "source": [
        "from sklearn.cluster import KMeans\n",
        "df_2=df[['Peso (kg)','Altura (cm)']]"
      ],
      "execution_count": null,
      "outputs": []
    },
    {
      "cell_type": "code",
      "metadata": {
        "colab": {
          "base_uri": "https://localhost:8080/",
          "height": 325
        },
        "id": "n8TeZvYKTe-n",
        "outputId": "a7a145d5-2cb3-44af-91e3-a039f888cabc"
      },
      "source": [
        "df_2.head(10)"
      ],
      "execution_count": null,
      "outputs": [
        {
          "output_type": "execute_result",
          "data": {
            "text/html": [
              "<div>\n",
              "<style scoped>\n",
              "    .dataframe tbody tr th:only-of-type {\n",
              "        vertical-align: middle;\n",
              "    }\n",
              "\n",
              "    .dataframe tbody tr th {\n",
              "        vertical-align: top;\n",
              "    }\n",
              "\n",
              "    .dataframe thead th {\n",
              "        text-align: right;\n",
              "    }\n",
              "</style>\n",
              "<table border=\"1\" class=\"dataframe\">\n",
              "  <thead>\n",
              "    <tr style=\"text-align: right;\">\n",
              "      <th></th>\n",
              "      <th>Peso (kg)</th>\n",
              "      <th>Altura (cm)</th>\n",
              "    </tr>\n",
              "  </thead>\n",
              "  <tbody>\n",
              "    <tr>\n",
              "      <th>0</th>\n",
              "      <td>70</td>\n",
              "      <td>155</td>\n",
              "    </tr>\n",
              "    <tr>\n",
              "      <th>1</th>\n",
              "      <td>57</td>\n",
              "      <td>160</td>\n",
              "    </tr>\n",
              "    <tr>\n",
              "      <th>2</th>\n",
              "      <td>100</td>\n",
              "      <td>183</td>\n",
              "    </tr>\n",
              "    <tr>\n",
              "      <th>3</th>\n",
              "      <td>72</td>\n",
              "      <td>175</td>\n",
              "    </tr>\n",
              "    <tr>\n",
              "      <th>4</th>\n",
              "      <td>64</td>\n",
              "      <td>165</td>\n",
              "    </tr>\n",
              "    <tr>\n",
              "      <th>5</th>\n",
              "      <td>70</td>\n",
              "      <td>182</td>\n",
              "    </tr>\n",
              "    <tr>\n",
              "      <th>6</th>\n",
              "      <td>82</td>\n",
              "      <td>172</td>\n",
              "    </tr>\n",
              "    <tr>\n",
              "      <th>7</th>\n",
              "      <td>66</td>\n",
              "      <td>186</td>\n",
              "    </tr>\n",
              "    <tr>\n",
              "      <th>8</th>\n",
              "      <td>65</td>\n",
              "      <td>184</td>\n",
              "    </tr>\n",
              "  </tbody>\n",
              "</table>\n",
              "</div>"
            ],
            "text/plain": [
              "   Peso (kg)  Altura (cm)\n",
              "0         70          155\n",
              "1         57          160\n",
              "2        100          183\n",
              "3         72          175\n",
              "4         64          165\n",
              "5         70          182\n",
              "6         82          172\n",
              "7         66          186\n",
              "8         65          184"
            ]
          },
          "metadata": {
            "tags": []
          },
          "execution_count": 24
        }
      ]
    },
    {
      "cell_type": "code",
      "metadata": {
        "colab": {
          "base_uri": "https://localhost:8080/",
          "height": 330
        },
        "id": "S24JAfQNTwkz",
        "outputId": "7f28ea92-7d87-4197-bc12-ab6e0b9e6e99"
      },
      "source": [
        "kmeans = KMeans(n_clusters=2).fit(df_2)\n",
        "centroids = kmeans.cluster_centers_\n",
        "print(centroids)\n",
        "\n",
        "plt.scatter(df['Peso (kg)'], df['Altura (cm)'], c= kmeans.labels_.astype(float), s=50, alpha=0.5)\n",
        "#plt.scatter(centroids[:, 0], centroids[:, 1], c='red', s=50)\n",
        "plt.xlabel('Peso (kg)')\n",
        "plt.ylabel('Altura (cm)')\n",
        "plt.title('Grupos com peso e altura similares')\n",
        "plt.show()"
      ],
      "execution_count": null,
      "outputs": [
        {
          "output_type": "stream",
          "text": [
            "[[ 75.83333333 180.33333333]\n",
            " [ 63.66666667 160.        ]]\n"
          ],
          "name": "stdout"
        },
        {
          "output_type": "display_data",
          "data": {
            "image/png": "[encoded data removed]",
            "text/plain": [
              "<Figure size 432x288 with 1 Axes>"
            ]
          },
          "metadata": {
            "tags": [],
            "needs_background": "light"
          }
        }
      ]
    }
  ]
}