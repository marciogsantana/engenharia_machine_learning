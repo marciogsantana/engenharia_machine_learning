{
  "nbformat": 4,
  "nbformat_minor": 0,
  "metadata": {
    "kernelspec": {
      "language": "python",
      "display_name": "Python 3",
      "name": "python3"
    },
    "language_info": {
      "pygments_lexer": "ipython3",
      "nbconvert_exporter": "python",
      "version": "3.6.4",
      "file_extension": ".py",
      "codemirror_mode": {
        "name": "ipython",
        "version": 3
      },
      "name": "python",
      "mimetype": "text/x-python"
    },
    "colab": {
      "name": "mle-em-marketing.ipynb",
      "provenance": [],
      "include_colab_link": true
    }
  },
  "cells": [
    {
      "cell_type": "markdown",
      "metadata": {
        "id": "view-in-github",
        "colab_type": "text"
      },
      "source": [
        "<a href=\"https://colab.research.google.com/github/marciogsantana/engenharia_machine_learning/blob/main/mle_em_marketing.ipynb\" target=\"_parent\"><img src=\"https://colab.research.google.com/assets/colab-badge.svg\" alt=\"Open In Colab\"/></a>"
      ]
    },
    {
      "cell_type": "code",
      "metadata": {
        "_uuid": "8f2839f25d086af736a60e9eeb907d3b93b6e0e5",
        "_cell_guid": "b1076dfc-b9ad-4769-8c92-a6c4dae69d19",
        "trusted": true,
        "id": "tXXnAViGttJa"
      },
      "source": [
        "import numpy as np #biblioteca utilizada para trabalhar com vetores\n",
        "import pandas as pd #biblioteca para trabalhar com dataframes (planilhas excel)\n",
        "import seaborn as sns #biblioteca utilizada para criar gráficos mais \"bonitos\"\n",
        "import matplotlib.pyplot as plt #biblioteca para criar gráficos \"comuns\" ao estilo Matlab"
      ],
      "execution_count": null,
      "outputs": []
    },
    {
      "cell_type": "code",
      "metadata": {
        "_uuid": "d629ff2d2480ee46fbb7e2d37f6b5fab8052498a",
        "_cell_guid": "79c7e3d0-c299-4dcb-8224-4455121ee9b0",
        "trusted": true,
        "id": "4qyXNaSfttJb"
      },
      "source": [
        "# abrir o arquivo csv que contém os dados a serem utilizados durante a prática\n",
        "uci_customers = pd.read_csv('../input/uci-wholesale-customers-data/Wholesale customers data.csv')"
      ],
      "execution_count": null,
      "outputs": []
    },
    {
      "cell_type": "code",
      "metadata": {
        "trusted": true,
        "id": "9MudZcqkttJc"
      },
      "source": [
        "#visualizando as 5 primeiras linhas do banco de dados\n",
        "uci_customers.head()"
      ],
      "execution_count": null,
      "outputs": []
    },
    {
      "cell_type": "markdown",
      "metadata": {
        "id": "ENvH4Pp3ttJd"
      },
      "source": [
        "1. FRESH: total anual gasto em produtos frescos;\n",
        "2. MILK: total anual gasto em produtos derivados do leite;\n",
        "3. GROCERY: total anual gasto em produtos de supermercado;\n",
        "4. FROZEN: total anual gasto em produtos congelados;\n",
        "5. DETERGENTS_PAPER: total anual gasto em produtos de limpeza;\n",
        "6. DELICATESSEN: total anual gasto em produtos de delicatessen;\n",
        "7. CHANNEL: tipo do canal de comunicação com o consumidor (1- Horeca(hotel/restaurante/cafés) 2- varejo)\n",
        "8. REGION: região do consumidor"
      ]
    },
    {
      "cell_type": "code",
      "metadata": {
        "trusted": true,
        "id": "-5sMqWmdttJd"
      },
      "source": [
        "#conhecendo o \"formato\" dos dados\n",
        "uci_customers.info() #função para \"ver\" as variáveis presentes no dataset"
      ],
      "execution_count": null,
      "outputs": []
    },
    {
      "cell_type": "code",
      "metadata": {
        "trusted": true,
        "id": "PVh9riEhttJe"
      },
      "source": [
        "#analisando o banco de dados\n",
        "uci_customers.describe() #função que retorna uma análise superficial dos dados "
      ],
      "execution_count": null,
      "outputs": []
    },
    {
      "cell_type": "markdown",
      "metadata": {
        "id": "NK16DMQbttJe"
      },
      "source": [
        "**Verificando se existem outliers (anomalias) nos dados. Para isso, será utilizado o boxplot.**"
      ]
    },
    {
      "cell_type": "code",
      "metadata": {
        "trusted": true,
        "id": "lLyjztS6ttJf"
      },
      "source": [
        "boxplot = uci_customers.boxplot(column=['Fresh', 'Milk','Grocery','Frozen','Detergents_Paper','Delicassen'])  #constroi o boxplot para as colunas desejadas"
      ],
      "execution_count": null,
      "outputs": []
    },
    {
      "cell_type": "code",
      "metadata": {
        "trusted": true,
        "id": "ifMh33xsttJf"
      },
      "source": [
        "plt.figure(figsize=(20,10))\n",
        "uci_customers.boxplot(column=['Fresh','Grocery'])  #constroi o boxplot para o total gasto em alimentos frescos e de supermercado"
      ],
      "execution_count": null,
      "outputs": []
    },
    {
      "cell_type": "markdown",
      "metadata": {
        "id": "O9z7iF2_ttJg"
      },
      "source": [
        "**Explorando os dados. Entendendo alguns relacionamentos e comportamentos dos clientes.**"
      ]
    },
    {
      "cell_type": "code",
      "metadata": {
        "trusted": true,
        "id": "Pw4AuwrottJg"
      },
      "source": [
        "#analisando a distribuição dos clientes por gênero\n",
        "sns.countplot(x='Region', data=uci_customers); # cria o gráfico que conta a quantidade de consumidores existente em cada uma das regiões\n",
        "plt.title('Distribuição dos clientes quanto à região');  #adiciona o título no gráfico"
      ],
      "execution_count": null,
      "outputs": []
    },
    {
      "cell_type": "markdown",
      "metadata": {
        "id": "ZfsiSX-8ttJg"
      },
      "source": [
        "**Distribuição dos consumidores pelo gasto com produtos derivados do leite**"
      ]
    },
    {
      "cell_type": "code",
      "metadata": {
        "trusted": true,
        "id": "3Bbs7KOlttJh"
      },
      "source": [
        "#analisando a distribuição dos clientes quanto ao total de gastos com produtos derivados do leite através do histograma\n",
        "uci_customers.hist('Milk', bins=50);  #seleciona a coluna de total de gastos para realizar o histograma\n",
        "                                 # os \"bins\" indicam a quantidade de grupos que se deseja dividir os dados\n",
        "plt.title('Distribuição dos clientes pelo gasto anual em produtos derivados do leite');# adiciona o título ao gráfico (histograma)\n",
        "plt.xlabel('Gasto total em produtos derivados do leite');"
      ],
      "execution_count": null,
      "outputs": []
    },
    {
      "cell_type": "markdown",
      "metadata": {
        "id": "ERhbB8XTttJh"
      },
      "source": [
        "**Comparando o canal de comunicação **"
      ]
    },
    {
      "cell_type": "code",
      "metadata": {
        "trusted": true,
        "id": "G0VbtvFVttJh"
      },
      "source": [
        "canal_1=uci_customers[uci_customers['Channel']==1] #seleciona o canal 1\n",
        "canal_2= uci_customers[uci_customers['Channel']==2] #seleciona a comunicação pelo canal 2\n",
        "plt.hist('Milk', data=canal_1, alpha=0.5, label='Canal_1'); #cria o histograma apenas do canal 1\n",
        "plt.hist('Milk', data=canal_2, alpha=0.5, label='Canal_2'); #cria o histograma apenas para o canal 2\n",
        "plt.title('Distribuição dos gastos com derivados do leite por canal'); #adicionao título ao gráfico\n",
        "plt.xlabel('Canal de Comunicação'); # adiciona o label para o eixo x\n",
        "plt.legend(); #adiciona a legenda"
      ],
      "execution_count": null,
      "outputs": []
    },
    {
      "cell_type": "markdown",
      "metadata": {
        "id": "2c703zKrttJi"
      },
      "source": [
        "**Analisando os gastos anuais com supermercado.**"
      ]
    },
    {
      "cell_type": "code",
      "metadata": {
        "trusted": true,
        "id": "zCx4C41HttJi"
      },
      "source": [
        "uci_customers.hist('Grocery');  #criando um histograma para os os gastos totais dos consumidores com produtos de supermercado\n",
        "plt.title('Distribuição dos gastos anuais dos consumidores com supermercado'); #adiciona o título no gráfico\n",
        "plt.xlabel('Dinheiros'); # adiciona o label do eixo X"
      ],
      "execution_count": null,
      "outputs": []
    },
    {
      "cell_type": "code",
      "metadata": {
        "trusted": true,
        "id": "v7GP6dvTttJi"
      },
      "source": [
        "uci_customers[uci_customers['Region']==0]#.unique()"
      ],
      "execution_count": null,
      "outputs": []
    },
    {
      "cell_type": "markdown",
      "metadata": {
        "id": "U7UttS1SttJi"
      },
      "source": [
        "**Analisando o impacto da região nos gastos com supermercado.**"
      ]
    },
    {
      "cell_type": "code",
      "metadata": {
        "trusted": true,
        "id": "g9yYFWSVttJj"
      },
      "source": [
        "plt.figure(figsize=(20,10))\n",
        "\n",
        "\n",
        "regiao_1=uci_customers[uci_customers['Region'] == 1]\n",
        "regiao_2=uci_customers[uci_customers['Region'] == 2]\n",
        "regiao_3=uci_customers[uci_customers['Region'] == 3]\n",
        "\n",
        "plt.hist('Grocery', data=regiao_1, alpha=0.5, label='Região 1');\n",
        "plt.hist('Grocery', data=regiao_2, alpha=0.5, label='Região 2');\n",
        "plt.hist('Grocery', data=regiao_3, alpha=0.5, label='Região 3');\n",
        "\n",
        "plt.title('Distribuição dos gastos com produtos de supermercado por região');\n",
        "plt.xlabel('Região');\n",
        "plt.legend();"
      ],
      "execution_count": null,
      "outputs": []
    },
    {
      "cell_type": "markdown",
      "metadata": {
        "id": "JjMSZ5K-ttJj"
      },
      "source": [
        "** Comparando os valores gastos com supermercado por cada região**"
      ]
    },
    {
      "cell_type": "code",
      "metadata": {
        "trusted": true,
        "id": "a0oV2WCXttJj"
      },
      "source": [
        "#obtém os dados de cada um dos consumidores em cada região\n",
        "regiao_1=uci_customers[uci_customers['Region'] == 1]\n",
        "regiao_2=uci_customers[uci_customers['Region'] == 2]\n",
        "regiao_3=uci_customers[uci_customers['Region'] == 3]\n",
        "\n",
        "# obtém os valores médios atribuídos a cada uma das regiões\n",
        "print('Valor anual médio gasto pelos clientes da região 1: ',regiao_1[['Fresh','Milk','Grocery','Frozen','Detergents_Paper','Delicassen']].mean()) #imprime o valor médio para a região 1\n",
        "print('Valor anual médio gasto pelos clientes da região 2: ',regiao_2[['Fresh','Milk','Grocery','Frozen','Detergents_Paper','Delicassen']].mean()) #imprime o valor médio para a região 2\n",
        "print('Valor anual médio gasto pelos clientes da região 3: ',regiao_3[['Fresh','Milk','Grocery','Frozen','Detergents_Paper','Delicassen']].mean()) #imprime o valor médio para a região 3\n",
        "\n"
      ],
      "execution_count": null,
      "outputs": []
    },
    {
      "cell_type": "code",
      "metadata": {
        "trusted": true,
        "id": "NprnyI9IttJk"
      },
      "source": [
        "df_customers_mean=uci_customers.groupby('Region').mean() #agrupa por região e obtém os valores médios\n",
        "df_customers_mean.plot(kind='bar',figsize=(20,10))  #realiza o plot "
      ],
      "execution_count": null,
      "outputs": []
    },
    {
      "cell_type": "markdown",
      "metadata": {
        "id": "VPeSUfHEttJk"
      },
      "source": [
        "**Encontrando o valor gasto com Delicassen e Supermercado pela região**"
      ]
    },
    {
      "cell_type": "code",
      "metadata": {
        "trusted": true,
        "id": "Nme6ydyzttJk"
      },
      "source": [
        "plt.figure(figsize=(20,10))\n",
        "\n",
        "sns.scatterplot('Delicassen', 'Grocery', hue='Region', data=uci_customers); #realiza o plot do gráfico dos gastos em supermercado com o \n",
        "plt.title('Delicassen x Supermercado (colorido por Região)'); #adiciona o título ao gráfico"
      ],
      "execution_count": null,
      "outputs": []
    },
    {
      "cell_type": "markdown",
      "metadata": {
        "id": "okpvAm8ittJk"
      },
      "source": [
        "** Analisando a correlação entre as variáveis **"
      ]
    },
    {
      "cell_type": "code",
      "metadata": {
        "trusted": true,
        "id": "uvahKHQyttJl"
      },
      "source": [
        "plt.figure(figsize=(20,10))\n",
        "\n",
        "sns.heatmap(uci_customers.corr(), annot=True) # desenha a matriz de correlação entre cada um dos dados "
      ],
      "execution_count": null,
      "outputs": []
    },
    {
      "cell_type": "markdown",
      "metadata": {
        "id": "BHVaBWCIttJl"
      },
      "source": [
        "** Analisando a correlação entre os Gastos com Detergente e Papel com as Compras de Produtos de Supermercado **"
      ]
    },
    {
      "cell_type": "code",
      "metadata": {
        "trusted": true,
        "id": "oRbJIBvQttJl"
      },
      "source": [
        "plt.figure(figsize=(20,10))\n",
        "\n",
        "\n",
        "sns.scatterplot('Grocery', 'Detergents_Paper', hue='Region', data=uci_customers);  #realiza o plot do gráfico de dispersão \n",
        "plt.title('Compras em Supermercado x Detergente e Papel, (Colorido por região))'); #adiciona o título ao gráfico"
      ],
      "execution_count": null,
      "outputs": []
    },
    {
      "cell_type": "markdown",
      "metadata": {
        "id": "QBqgW3TlttJl"
      },
      "source": [
        "** Aplicando a regressão linear **"
      ]
    },
    {
      "cell_type": "code",
      "metadata": {
        "trusted": true,
        "id": "zCUW6DQlttJl"
      },
      "source": [
        "from sklearn.model_selection import train_test_split \n",
        "from sklearn.linear_model import LinearRegression\n",
        "from sklearn import metrics"
      ],
      "execution_count": null,
      "outputs": []
    },
    {
      "cell_type": "code",
      "metadata": {
        "trusted": true,
        "id": "XAQQiefottJm"
      },
      "source": [
        "X = uci_customers['Grocery'].values.reshape(-1,1)\n",
        "y = uci_customers['Delicassen'].values.reshape(-1,1)"
      ],
      "execution_count": null,
      "outputs": []
    },
    {
      "cell_type": "code",
      "metadata": {
        "trusted": true,
        "id": "KKsctPiPttJm"
      },
      "source": [
        "X_train, X_test, y_train, y_test = train_test_split(X, y, test_size=0.2, random_state=0) #dividindo o df em treinamento e teste"
      ],
      "execution_count": null,
      "outputs": []
    },
    {
      "cell_type": "code",
      "metadata": {
        "trusted": true,
        "id": "LKWr0Jr6ttJm"
      },
      "source": [
        "regressor = LinearRegression() #objeto para a construção do medelo de regressão linear \n",
        "regressor.fit(X_train, y_train) #treinamento do algoritmo"
      ],
      "execution_count": null,
      "outputs": []
    },
    {
      "cell_type": "code",
      "metadata": {
        "trusted": true,
        "id": "cDv2yAiettJm"
      },
      "source": [
        "y_pred = regressor.predict(X_test)  #previsão do modelo de regressão\n",
        "plt.scatter(X_test, y_test,  color='gray')\n",
        "plt.plot(X_test, y_pred, color='red', linewidth=2)\n",
        "plt.show()"
      ],
      "execution_count": null,
      "outputs": []
    },
    {
      "cell_type": "markdown",
      "metadata": {
        "id": "Rfdmhy4-ttJm"
      },
      "source": [
        "** Analisando a correlação entre o gasto com Produtos congelados e produtos de higiene**"
      ]
    },
    {
      "cell_type": "code",
      "metadata": {
        "trusted": true,
        "id": "-CVtJwLjttJn"
      },
      "source": [
        "plt.figure(figsize=(20,10))\n",
        "\n",
        "\n",
        "sns.scatterplot('Frozen', 'Detergents_Paper', hue='Region', data=uci_customers);  #realiza o plot do gráfico de dispersão \n",
        "plt.title('Produtos Congelados x Detergente e Papel, (Colorido por região))'); #adiciona o título ao gráfico"
      ],
      "execution_count": null,
      "outputs": []
    },
    {
      "cell_type": "markdown",
      "metadata": {
        "id": "ISRZ6CgfttJn"
      },
      "source": [
        "** Correlações por região **"
      ]
    },
    {
      "cell_type": "code",
      "metadata": {
        "trusted": true,
        "id": "3GarEeuYttJn"
      },
      "source": [
        "#região 1 - Lisboa\n",
        "sns.heatmap(regiao_1.corr(), annot=True); #encontra a matriz de correlação apenas entre o gênero feminino\n",
        "plt.title('Correlações apenas para a região 1'); #adiciona o título no gráfico"
      ],
      "execution_count": null,
      "outputs": []
    },
    {
      "cell_type": "markdown",
      "metadata": {
        "id": "25J4W-D_ttJn"
      },
      "source": [
        "**Segmentação de clientes utilizando compras no supermercado e produtos de limpeza.**"
      ]
    },
    {
      "cell_type": "code",
      "metadata": {
        "trusted": true,
        "id": "5N_2HrAIttJn"
      },
      "source": [
        "#biblioteca para realizar a construção do algoritmo não supervisionado K-means\n",
        "from sklearn.cluster import KMeans"
      ],
      "execution_count": null,
      "outputs": []
    },
    {
      "cell_type": "code",
      "metadata": {
        "trusted": true,
        "id": "O5gQF-z3ttJo"
      },
      "source": [
        "#obtém os dados para a construção do banco de dados apenas com compras de congelados e produtos de limpeza\n",
        "segmentacao_1 = uci_customers[['Frozen' , 'Detergents_Paper']].iloc[: , :].values #transforma os dados em array\n"
      ],
      "execution_count": null,
      "outputs": []
    },
    {
      "cell_type": "code",
      "metadata": {
        "trusted": true,
        "id": "gVhC2D_YttJo"
      },
      "source": [
        "kmeans = KMeans(n_clusters=3) #contrói o modelo para aplicar o algoritmo de clusterização não supervisionado K-means\n",
        "kmeans.fit(segmentacao_1) #aplica o modelo K-means aos dados\n",
        "y_kmeans = kmeans.predict(segmentacao_1) #encontra os grupos"
      ],
      "execution_count": null,
      "outputs": []
    },
    {
      "cell_type": "code",
      "metadata": {
        "trusted": true,
        "id": "kG-22gyottJo"
      },
      "source": [
        "#inicia a construção da figura\n",
        "plt.figure(figsize = (20 , 10) ) #define o tamanho da figura\n",
        "\n",
        "plt.scatter(segmentacao_1[:, 0], segmentacao_1[:, 1], c=y_kmeans, cmap='viridis') #constrói o gráfco de dispersão com os grupos\n",
        "centers = kmeans.cluster_centers_ #encontra os centros de cada um dos grupos\n",
        "plt.scatter(centers[:, 0], centers[:, 1], c='black', s=200, alpha=0.5) #realiza o plot de cada um dos grupos\n",
        "plt.xlabel(\"Gastos com supermercado\")  #adiciona o label para o eixo X\n",
        "plt.ylabel(\"Gastos com produtos de limpeza\") #adiciona o label para o eixo Y\n",
        "plt.title(\"Segmentação de clientes por gastos com  Produots de supermercado x Produtos de limpeza\") #adiciona o título"
      ],
      "execution_count": null,
      "outputs": []
    }
  ]
}